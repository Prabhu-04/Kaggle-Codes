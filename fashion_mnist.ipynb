{
  "nbformat": 4,
  "nbformat_minor": 0,
  "metadata": {
    "colab": {
      "name": "fashion_mnist.ipynb",
      "provenance": [],
      "authorship_tag": "ABX9TyNWaGII/I4+hyRIR6BRwtbU",
      "include_colab_link": true
    },
    "kernelspec": {
      "name": "python3",
      "display_name": "Python 3"
    },
    "accelerator": "GPU"
  },
  "cells": [
    {
      "cell_type": "markdown",
      "metadata": {
        "id": "view-in-github",
        "colab_type": "text"
      },
      "source": [
        "<a href=\"https://colab.research.google.com/github/Prabhu-04/Kaggle-Codes/blob/master/fashion_mnist.ipynb\" target=\"_parent\"><img src=\"https://colab.research.google.com/assets/colab-badge.svg\" alt=\"Open In Colab\"/></a>"
      ]
    },
    {
      "cell_type": "code",
      "metadata": {
        "id": "QwjsQnnEWF0m"
      },
      "source": [
        "import tensorflow as tf\n",
        "from tensorflow import keras"
      ],
      "execution_count": 2,
      "outputs": []
    },
    {
      "cell_type": "code",
      "metadata": {
        "id": "9-jJT4DFmDY6",
        "outputId": "f2a332b1-efe0-400b-ab1d-d843c13e7b6e",
        "colab": {
          "base_uri": "https://localhost:8080/",
          "height": 35
        }
      },
      "source": [
        "tf.__version__"
      ],
      "execution_count": 3,
      "outputs": [
        {
          "output_type": "execute_result",
          "data": {
            "application/vnd.google.colaboratory.intrinsic+json": {
              "type": "string"
            },
            "text/plain": [
              "'2.3.0'"
            ]
          },
          "metadata": {
            "tags": []
          },
          "execution_count": 3
        }
      ]
    },
    {
      "cell_type": "code",
      "metadata": {
        "id": "Sgyy-cMkmL7J",
        "outputId": "34f76cb2-34cf-4f92-c2ef-e875a488a32c",
        "colab": {
          "base_uri": "https://localhost:8080/",
          "height": 35
        }
      },
      "source": [
        "keras.__version__"
      ],
      "execution_count": 4,
      "outputs": [
        {
          "output_type": "execute_result",
          "data": {
            "application/vnd.google.colaboratory.intrinsic+json": {
              "type": "string"
            },
            "text/plain": [
              "'2.4.0'"
            ]
          },
          "metadata": {
            "tags": []
          },
          "execution_count": 4
        }
      ]
    },
    {
      "cell_type": "code",
      "metadata": {
        "id": "jQJ0dizUmZxS",
        "outputId": "f4665ff1-cc97-4ac7-b883-5adb1bffd094",
        "colab": {
          "base_uri": "https://localhost:8080/"
        }
      },
      "source": [
        "fas=keras.datasets.fashion_mnist\n",
        "(X_tr_full,y_tr_full),(X_test,y_test)=fas.load_data()"
      ],
      "execution_count": 5,
      "outputs": [
        {
          "output_type": "stream",
          "text": [
            "Downloading data from https://storage.googleapis.com/tensorflow/tf-keras-datasets/train-labels-idx1-ubyte.gz\n",
            "32768/29515 [=================================] - 0s 0us/step\n",
            "Downloading data from https://storage.googleapis.com/tensorflow/tf-keras-datasets/train-images-idx3-ubyte.gz\n",
            "26427392/26421880 [==============================] - 0s 0us/step\n",
            "Downloading data from https://storage.googleapis.com/tensorflow/tf-keras-datasets/t10k-labels-idx1-ubyte.gz\n",
            "8192/5148 [===============================================] - 0s 0us/step\n",
            "Downloading data from https://storage.googleapis.com/tensorflow/tf-keras-datasets/t10k-images-idx3-ubyte.gz\n",
            "4423680/4422102 [==============================] - 0s 0us/step\n"
          ],
          "name": "stdout"
        }
      ]
    },
    {
      "cell_type": "code",
      "metadata": {
        "id": "CiIwSl78nDgr",
        "outputId": "7f45a159-b8ab-4c2d-8c12-8b169b389dee",
        "colab": {
          "base_uri": "https://localhost:8080/"
        }
      },
      "source": [
        "X_tr_full.shape"
      ],
      "execution_count": 6,
      "outputs": [
        {
          "output_type": "execute_result",
          "data": {
            "text/plain": [
              "(60000, 28, 28)"
            ]
          },
          "metadata": {
            "tags": []
          },
          "execution_count": 6
        }
      ]
    },
    {
      "cell_type": "code",
      "metadata": {
        "id": "UcG-XmKenJZ3",
        "outputId": "f507d730-902f-4b06-9c86-bc17a94916a0",
        "colab": {
          "base_uri": "https://localhost:8080/"
        }
      },
      "source": [
        "X_tr_full.dtype"
      ],
      "execution_count": 7,
      "outputs": [
        {
          "output_type": "execute_result",
          "data": {
            "text/plain": [
              "dtype('uint8')"
            ]
          },
          "metadata": {
            "tags": []
          },
          "execution_count": 7
        }
      ]
    },
    {
      "cell_type": "code",
      "metadata": {
        "id": "u_TvsQ3JnMUA"
      },
      "source": [
        "X_valid,X_tr=X_tr_full[:5000]/255.0,X_tr_full[5000:]/255.0\n",
        "y_valid,y_tr=y_tr_full[:5000],y_tr_full[5000:]"
      ],
      "execution_count": 8,
      "outputs": []
    },
    {
      "cell_type": "code",
      "metadata": {
        "id": "ermgj9vknnPq"
      },
      "source": [
        "class_names=['T-shirt/top','Trouser','Pullover','Dress','Coat','Sandal','Shirt','Sneaker','Bag','Ankle boot']"
      ],
      "execution_count": 9,
      "outputs": []
    },
    {
      "cell_type": "code",
      "metadata": {
        "id": "Dt42a957oA2h",
        "outputId": "6288e106-5d7c-4558-e269-0e89c7f2894b",
        "colab": {
          "base_uri": "https://localhost:8080/",
          "height": 35
        }
      },
      "source": [
        "class_names[y_tr[0]]"
      ],
      "execution_count": 10,
      "outputs": [
        {
          "output_type": "execute_result",
          "data": {
            "application/vnd.google.colaboratory.intrinsic+json": {
              "type": "string"
            },
            "text/plain": [
              "'Coat'"
            ]
          },
          "metadata": {
            "tags": []
          },
          "execution_count": 10
        }
      ]
    },
    {
      "cell_type": "code",
      "metadata": {
        "id": "1QUmNm7Eooan"
      },
      "source": [
        "model=keras.models.Sequential()\n",
        "model.add(keras.layers.Flatten(input_shape=[28,28]))\n",
        "model.add(keras.layers.Dense(300,activation='relu'))\n",
        "model.add(keras.layers.Dense(100,activation='relu'))\n",
        "model.add(keras.layers.Dense(10,activation='softmax'))"
      ],
      "execution_count": 11,
      "outputs": []
    },
    {
      "cell_type": "code",
      "metadata": {
        "id": "0X8WpJb1p62Q",
        "outputId": "765cdc04-d997-436f-de06-44c4b987e504",
        "colab": {
          "base_uri": "https://localhost:8080/"
        }
      },
      "source": [
        "model.summary()"
      ],
      "execution_count": 12,
      "outputs": [
        {
          "output_type": "stream",
          "text": [
            "Model: \"sequential\"\n",
            "_________________________________________________________________\n",
            "Layer (type)                 Output Shape              Param #   \n",
            "=================================================================\n",
            "flatten (Flatten)            (None, 784)               0         \n",
            "_________________________________________________________________\n",
            "dense (Dense)                (None, 300)               235500    \n",
            "_________________________________________________________________\n",
            "dense_1 (Dense)              (None, 100)               30100     \n",
            "_________________________________________________________________\n",
            "dense_2 (Dense)              (None, 10)                1010      \n",
            "=================================================================\n",
            "Total params: 266,610\n",
            "Trainable params: 266,610\n",
            "Non-trainable params: 0\n",
            "_________________________________________________________________\n"
          ],
          "name": "stdout"
        }
      ]
    },
    {
      "cell_type": "code",
      "metadata": {
        "id": "CxmfabCHqSdv"
      },
      "source": [
        "model.compile(loss='sparse_categorical_crossentropy',optimizer='sgd',metrics=['accuracy'])"
      ],
      "execution_count": 13,
      "outputs": []
    },
    {
      "cell_type": "code",
      "metadata": {
        "id": "ICR3sZkssJr9",
        "outputId": "0156a38f-313c-4457-c0d4-729f451e5a97",
        "colab": {
          "base_uri": "https://localhost:8080/"
        }
      },
      "source": [
        "history=model.fit(X_tr,y_tr,epochs=35,validation_data=(X_valid,y_valid))"
      ],
      "execution_count": 20,
      "outputs": [
        {
          "output_type": "stream",
          "text": [
            "Epoch 1/35\n",
            "1719/1719 [==============================] - 4s 2ms/step - loss: 0.1186 - accuracy: 0.9588 - val_loss: 0.3111 - val_accuracy: 0.8962\n",
            "Epoch 2/35\n",
            "1719/1719 [==============================] - 4s 2ms/step - loss: 0.1156 - accuracy: 0.9600 - val_loss: 0.3093 - val_accuracy: 0.9002\n",
            "Epoch 3/35\n",
            "1719/1719 [==============================] - 4s 2ms/step - loss: 0.1142 - accuracy: 0.9604 - val_loss: 0.3089 - val_accuracy: 0.8988\n",
            "Epoch 4/35\n",
            "1719/1719 [==============================] - 4s 2ms/step - loss: 0.1127 - accuracy: 0.9612 - val_loss: 0.3348 - val_accuracy: 0.8932\n",
            "Epoch 5/35\n",
            "1719/1719 [==============================] - 4s 2ms/step - loss: 0.1111 - accuracy: 0.9617 - val_loss: 0.3190 - val_accuracy: 0.9038\n",
            "Epoch 6/35\n",
            "1719/1719 [==============================] - 4s 2ms/step - loss: 0.1093 - accuracy: 0.9627 - val_loss: 0.3159 - val_accuracy: 0.8994\n",
            "Epoch 7/35\n",
            "1719/1719 [==============================] - 4s 2ms/step - loss: 0.1081 - accuracy: 0.9625 - val_loss: 0.3335 - val_accuracy: 0.8946\n",
            "Epoch 8/35\n",
            "1719/1719 [==============================] - 4s 2ms/step - loss: 0.1055 - accuracy: 0.9644 - val_loss: 0.3217 - val_accuracy: 0.8940\n",
            "Epoch 9/35\n",
            "1719/1719 [==============================] - 4s 2ms/step - loss: 0.1027 - accuracy: 0.9645 - val_loss: 0.3442 - val_accuracy: 0.8920\n",
            "Epoch 10/35\n",
            "1719/1719 [==============================] - 4s 2ms/step - loss: 0.1024 - accuracy: 0.9645 - val_loss: 0.3319 - val_accuracy: 0.8936\n",
            "Epoch 11/35\n",
            "1719/1719 [==============================] - 4s 2ms/step - loss: 0.0997 - accuracy: 0.9664 - val_loss: 0.3282 - val_accuracy: 0.9022\n",
            "Epoch 12/35\n",
            "1719/1719 [==============================] - 3s 2ms/step - loss: 0.0994 - accuracy: 0.9660 - val_loss: 0.3220 - val_accuracy: 0.9006\n",
            "Epoch 13/35\n",
            "1719/1719 [==============================] - 4s 2ms/step - loss: 0.0987 - accuracy: 0.9650 - val_loss: 0.3218 - val_accuracy: 0.8978\n",
            "Epoch 14/35\n",
            "1719/1719 [==============================] - 3s 2ms/step - loss: 0.0963 - accuracy: 0.9666 - val_loss: 0.3340 - val_accuracy: 0.8948\n",
            "Epoch 15/35\n",
            "1719/1719 [==============================] - 3s 2ms/step - loss: 0.0938 - accuracy: 0.9689 - val_loss: 0.3234 - val_accuracy: 0.9026\n",
            "Epoch 16/35\n",
            "1719/1719 [==============================] - 3s 2ms/step - loss: 0.0926 - accuracy: 0.9686 - val_loss: 0.3226 - val_accuracy: 0.9004\n",
            "Epoch 17/35\n",
            "1719/1719 [==============================] - 3s 2ms/step - loss: 0.0910 - accuracy: 0.9690 - val_loss: 0.3774 - val_accuracy: 0.8982\n",
            "Epoch 18/35\n",
            "1719/1719 [==============================] - 3s 2ms/step - loss: 0.0893 - accuracy: 0.9693 - val_loss: 0.3353 - val_accuracy: 0.8978\n",
            "Epoch 19/35\n",
            "1719/1719 [==============================] - 3s 2ms/step - loss: 0.0875 - accuracy: 0.9698 - val_loss: 0.3577 - val_accuracy: 0.8976\n",
            "Epoch 20/35\n",
            "1719/1719 [==============================] - 3s 2ms/step - loss: 0.0861 - accuracy: 0.9704 - val_loss: 0.3280 - val_accuracy: 0.8994\n",
            "Epoch 21/35\n",
            "1719/1719 [==============================] - 3s 2ms/step - loss: 0.0844 - accuracy: 0.9713 - val_loss: 0.3296 - val_accuracy: 0.9040\n",
            "Epoch 22/35\n",
            "1719/1719 [==============================] - 3s 2ms/step - loss: 0.0841 - accuracy: 0.9708 - val_loss: 0.3448 - val_accuracy: 0.8988\n",
            "Epoch 23/35\n",
            "1719/1719 [==============================] - 4s 2ms/step - loss: 0.0823 - accuracy: 0.9708 - val_loss: 0.4003 - val_accuracy: 0.8808\n",
            "Epoch 24/35\n",
            "1719/1719 [==============================] - 4s 2ms/step - loss: 0.0823 - accuracy: 0.9717 - val_loss: 0.3703 - val_accuracy: 0.8934\n",
            "Epoch 25/35\n",
            "1719/1719 [==============================] - 4s 2ms/step - loss: 0.0773 - accuracy: 0.9740 - val_loss: 0.3697 - val_accuracy: 0.8940\n",
            "Epoch 26/35\n",
            "1719/1719 [==============================] - 4s 2ms/step - loss: 0.0792 - accuracy: 0.9731 - val_loss: 0.3592 - val_accuracy: 0.8980\n",
            "Epoch 27/35\n",
            "1719/1719 [==============================] - 4s 2ms/step - loss: 0.0769 - accuracy: 0.9737 - val_loss: 0.3730 - val_accuracy: 0.8964\n",
            "Epoch 28/35\n",
            "1719/1719 [==============================] - 4s 2ms/step - loss: 0.0756 - accuracy: 0.9744 - val_loss: 0.3583 - val_accuracy: 0.8986\n",
            "Epoch 29/35\n",
            "1719/1719 [==============================] - 4s 2ms/step - loss: 0.0749 - accuracy: 0.9741 - val_loss: 0.3667 - val_accuracy: 0.9000\n",
            "Epoch 30/35\n",
            "1719/1719 [==============================] - 4s 2ms/step - loss: 0.0742 - accuracy: 0.9748 - val_loss: 0.3743 - val_accuracy: 0.8948\n",
            "Epoch 31/35\n",
            "1719/1719 [==============================] - 4s 2ms/step - loss: 0.0702 - accuracy: 0.9768 - val_loss: 0.3741 - val_accuracy: 0.8970\n",
            "Epoch 32/35\n",
            "1719/1719 [==============================] - 4s 2ms/step - loss: 0.0697 - accuracy: 0.9759 - val_loss: 0.3752 - val_accuracy: 0.8920\n",
            "Epoch 33/35\n",
            "1719/1719 [==============================] - 4s 2ms/step - loss: 0.0687 - accuracy: 0.9770 - val_loss: 0.3661 - val_accuracy: 0.8996\n",
            "Epoch 34/35\n",
            "1719/1719 [==============================] - 4s 2ms/step - loss: 0.0669 - accuracy: 0.9778 - val_loss: 0.4005 - val_accuracy: 0.8976\n",
            "Epoch 35/35\n",
            "1719/1719 [==============================] - 4s 2ms/step - loss: 0.0688 - accuracy: 0.9763 - val_loss: 0.3643 - val_accuracy: 0.9024\n"
          ],
          "name": "stdout"
        }
      ]
    },
    {
      "cell_type": "code",
      "metadata": {
        "id": "iu7wH273suBu",
        "outputId": "d21c331f-18f1-4d18-d15c-c734c04a901b",
        "colab": {
          "base_uri": "https://localhost:8080/",
          "height": 324
        }
      },
      "source": [
        "import pandas as pd\n",
        "import matplotlib.pyplot as plt\n",
        "pd.DataFrame(history.history).plot(figsize=(8,5))\n",
        "plt.grid(True)\n",
        "plt.gca().set_ylim(0,1)\n",
        "plt.show()"
      ],
      "execution_count": 21,
      "outputs": [
        {
          "output_type": "display_data",
          "data": {
            "image/png": "[encoded data removed]",
            "text/plain": [
              "<Figure size 576x360 with 1 Axes>"
            ]
          },
          "metadata": {
            "tags": [],
            "needs_background": "light"
          }
        }
      ]
    },
    {
      "cell_type": "code",
      "metadata": {
        "id": "n9nn1GR0uYOh",
        "outputId": "e6dc6b61-3343-4bd2-c100-71e7807e23c0",
        "colab": {
          "base_uri": "https://localhost:8080/"
        }
      },
      "source": [
        "model.evaluate(X_test,y_test)"
      ],
      "execution_count": 22,
      "outputs": [
        {
          "output_type": "stream",
          "text": [
            "313/313 [==============================] - 1s 2ms/step - loss: 94.1406 - accuracy: 0.8631\n"
          ],
          "name": "stdout"
        },
        {
          "output_type": "execute_result",
          "data": {
            "text/plain": [
              "[94.14055633544922, 0.863099992275238]"
            ]
          },
          "metadata": {
            "tags": []
          },
          "execution_count": 22
        }
      ]
    },
    {
      "cell_type": "code",
      "metadata": {
        "id": "mflt6bUlvMny",
        "outputId": "d2a2bee4-2237-44a5-8107-c8595f4b822d",
        "colab": {
          "base_uri": "https://localhost:8080/"
        }
      },
      "source": [
        "X_new=X_test[:3]\n",
        "y_proba=model.predict(X_new)\n",
        "y_proba.round(2)"
      ],
      "execution_count": 23,
      "outputs": [
        {
          "output_type": "execute_result",
          "data": {
            "text/plain": [
              "array([[0., 0., 0., 0., 0., 0., 0., 0., 0., 1.],\n",
              "       [0., 0., 1., 0., 0., 0., 0., 0., 0., 0.],\n",
              "       [0., 1., 0., 0., 0., 0., 0., 0., 0., 0.]], dtype=float32)"
            ]
          },
          "metadata": {
            "tags": []
          },
          "execution_count": 23
        }
      ]
    },
    {
      "cell_type": "code",
      "metadata": {
        "id": "RqUo170RxFkW",
        "outputId": "dde314ba-fb83-44f8-f9e5-0161d6a921a2",
        "colab": {
          "base_uri": "https://localhost:8080/"
        }
      },
      "source": [
        "y_pred=model.predict_classes(X_new)\n",
        "y_pred"
      ],
      "execution_count": 24,
      "outputs": [
        {
          "output_type": "stream",
          "text": [
            "WARNING:tensorflow:From <ipython-input-24-3306f3af3b8e>:1: Sequential.predict_classes (from tensorflow.python.keras.engine.sequential) is deprecated and will be removed after 2021-01-01.\n",
            "Instructions for updating:\n",
            "Please use instead:* `np.argmax(model.predict(x), axis=-1)`,   if your model does multi-class classification   (e.g. if it uses a `softmax` last-layer activation).* `(model.predict(x) > 0.5).astype(\"int32\")`,   if your model does binary classification   (e.g. if it uses a `sigmoid` last-layer activation).\n"
          ],
          "name": "stdout"
        },
        {
          "output_type": "execute_result",
          "data": {
            "text/plain": [
              "array([9, 2, 1])"
            ]
          },
          "metadata": {
            "tags": []
          },
          "execution_count": 24
        }
      ]
    },
    {
      "cell_type": "code",
      "metadata": {
        "id": "kPgBSr3mxU7P",
        "outputId": "ff363953-2121-4fc0-80d2-1348ba133bfe",
        "colab": {
          "base_uri": "https://localhost:8080/"
        }
      },
      "source": [
        "import numpy as np\n",
        "np.array(class_names)[y_pred]"
      ],
      "execution_count": 26,
      "outputs": [
        {
          "output_type": "execute_result",
          "data": {
            "text/plain": [
              "array(['Ankle boot', 'Pullover', 'Trouser'], dtype='<U11')"
            ]
          },
          "metadata": {
            "tags": []
          },
          "execution_count": 26
        }
      ]
    },
    {
      "cell_type": "code",
      "metadata": {
        "id": "ZykWOQ29xhzl",
        "outputId": "ba3a9cf9-d8eb-4939-bc32-93f73c622b49",
        "colab": {
          "base_uri": "https://localhost:8080/"
        }
      },
      "source": [
        "y_test[:3]"
      ],
      "execution_count": 27,
      "outputs": [
        {
          "output_type": "execute_result",
          "data": {
            "text/plain": [
              "array([9, 2, 1], dtype=uint8)"
            ]
          },
          "metadata": {
            "tags": []
          },
          "execution_count": 27
        }
      ]
    },
    {
      "cell_type": "code",
      "metadata": {
        "id": "nhbOJ7sOxyaU"
      },
      "source": [
        ""
      ],
      "execution_count": null,
      "outputs": []
    }
  ]
}